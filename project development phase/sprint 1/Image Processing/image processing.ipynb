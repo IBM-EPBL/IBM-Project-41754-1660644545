{
  "nbformat": 4,
  "nbformat_minor": 0,
  "metadata": {
    "colab": {
      "provenance": []
    },
    "kernelspec": {
      "name": "python3",
      "display_name": "Python 3"
    },
    "language_info": {
      "name": "python"
    }
  },
  "cells": [
    {
      "cell_type": "code",
      "source": [
        "Image Filtering - Spatial Filtering\n",
        "Import required packages for image filtering.\n",
        "\n",
        "import cv2\n",
        "import numpy as np\n",
        "from matplotlib import pyplot as plt\n",
        "ref = cv2.imread('/content/0a285c8b-1c31-48d4-89f2-af8b9edc36f6___RS_HL 5759.JPG')\n",
        "plt.imshow(ref), plt.grid(False)\n",
        "\n",
        "# while learning how to perform spatial filtering,\n",
        "# you can also note how to apply different python commands.\n",
        "plt.title('The original image')\n",
        "plt.xticks([])\n",
        "plt.yticks([])\n",
        "plt.show()"
      ],
      "metadata": {
        "id": "xYbUTq4bEr1E"
      },
      "execution_count": null,
      "outputs": []
    },
    {
      "cell_type": "code",
      "source": [
        "There are two key factors in applying a filter on an image in digital image processing; 1) the kernal type (and size), and 2) the padding method (padding is the extrapolation procedure which describes the kernel output over the borders of the image).\n",
        "\n",
        "There are different methods for defining the kernel and introducing the padding method in OpenCV. Unlike MATLAB that the kernel parameters are defined very easily, in OpenCV you have more control over the parameters and should take a longer way to reach the goal.\n",
        "\n",
        "1-Averaging filter\n",
        "Below, you see how to define a very simple averaging kernel and apply it on your images.\n",
        "\n",
        "# Defining a kernel using numpy.\n",
        "kernel_5 = np.ones((5,5),np.float32)/25\n",
        "kernel_3 = np.ones((3,3),np.float32)/9\n",
        "# Convolves an image with the kernel.\n",
        "# -1 means that the center of the kernel is located on the center pixel.\n",
        "# compare two kernel sizes.\n",
        "filtered_5 = cv2.filter2D(ref,-1,kernel_5)\n",
        "filtered_3 = cv2.filter2D(ref,-1,kernel_3)\n",
        "\n",
        "# plot the results in two subplots.\n",
        "fig=plt.figure(figsize=(14, 14), dpi= 80, facecolor='w', edgecolor='k')\n",
        "\n",
        "plt.subplot(121), plt.imshow(filtered_3), plt.title('3-by-3 filter')\n",
        "plt.grid(False)\n",
        "plt.xticks([])\n",
        "plt.yticks([])\n",
        "\n",
        "plt.subplot(122), plt.imshow(filtered_5), plt.title('5-by-5 filter')\n",
        "plt.grid(False)\n",
        "plt.xticks([])\n",
        "plt.yticks([])\n",
        "\n",
        "plt.show()"
      ],
      "metadata": {
        "id": "8gy72i19E2O2"
      },
      "execution_count": null,
      "outputs": []
    },
    {
      "cell_type": "code",
      "source": [
        "The complete command for performing 2D spatial filter over images in OpenCV is cv2.filter2D with the following list of parameters. Some of the parameters are not necessarily used.\n",
        "\n",
        "cv2.filter2D(src, ddepth, kernel[, dst[, anchor[, delta[, borderType]]]])\n",
        "\n",
        "src – input image.\n",
        "\n",
        "ddepth – desired depth of the destination image; if it is negative, it will be the same as src.depth(); the following combinations of src.depth() and ddepth are supported:\n",
        "\n",
        "src.depth() = CV_8U, ddepth = -1/CV_16S/CV_32F/CV_64F\n",
        "\n",
        "src.depth() = CV_16U/CV_16S, ddepth = -1/CV_32F/CV_64F\n",
        "\n",
        "src.depth() = CV_32F, ddepth = -1/CV_32F/CV_64F\n",
        "\n",
        "src.depth() = CV_64F, ddepth = -1/CV_64F\n",
        "\n",
        "when ddepth=-1, the output image will have the same depth as the source.\n",
        "\n",
        "kernel – convolution kernel (or rather a correlation kernel), a single-channel floating point matrix; if you want to apply different kernels to different channels, split the image into separate color planes using split() and process them individually.\n",
        "\n",
        "anchor – anchor of the kernel that indicates the relative position of a filtered point within the kernel; the anchor should lie within the kernel; default value (-1,-1) means that the anchor is at the kernel center.\n",
        "\n",
        "The anchor can be replaced by a single -1, indicating that the center of the kernel is on its middle pixel.\n",
        "\n",
        "delta – optional value added to the filtered pixels before storing them in dst.\n",
        "\n",
        "borderType – pixel extrapolation method (see [borderInterpolate()](https://docs.opencv.org/2.4/modules/imgproc/doc/filtering.html#int%20borderInterpolate(int%20p,%20int%20len,%20int%20borderType) for details).\n",
        "\n",
        "Another simple way to apply a simple averaging filter is to use cv2.blur() function. The function can be applied as below:# you can check the docs for further information.\n",
        "blurred = cv2.blur(ref, (5, 5), -1)\n",
        "\n",
        "plt.imshow(blurred), plt.grid(False), plt.xticks([]), plt.yticks([]), plt.show()\n"
      ],
      "metadata": {
        "id": "EiUfCacPFUuP"
      },
      "execution_count": null,
      "outputs": []
    },
    {
      "cell_type": "code",
      "source": [
        "(,\n",
        " None,\n",
        " ([], ),\n",
        " ([], ),\n",
        " None)"
      ],
      "metadata": {
        "id": "-0clGxjhFjfa"
      },
      "execution_count": null,
      "outputs": []
    },
    {
      "cell_type": "code",
      "source": [
        "2-Padding\n",
        "As we mentioned earlier, one of the key factors in applying a filter over an image is to understand how to extrapolate the border values of the image while some parts of the kernel are dropped outside of the image border. \"borderType\" is the parameter which handles this functionality of kernels. Normally, the function is not called directly. It is used inside FilterEngine and [copyMakeBorder()](https://docs.opencv.org/2.4/modules/imgproc/doc/filtering.html#void%20copyMakeBorder(InputArray%20src,%20OutputArray%20dst,%20int%20top,%20int%20bottom,%20int%20left,%20int%20right,%20int%20borderType,%20const%20Scalar&%20value) to compute tables for quick extrapolation. It means that we should first create the bordered (padded) image and then apply the filter over that image instead of the original image.\n",
        "\n",
        "Various border types, image boundaries, are denoted with '|'\n",
        "\n",
        "BORDER_REPLICATE: aaaaaa|abcdefgh|hhhhhhh\n",
        "BORDER_REFLECT: fedcba|abcdefgh|hgfedcb\n",
        "BORDER_REFLECT_101: gfedcb|abcdefgh|gfedcba\n",
        "BORDER_WRAP: cdefgh|abcdefgh|abcdefg\n",
        "BORDER_CONSTANT: iiiiii|abcdefgh|iiiiiii with some specified 'i'\n",
        "To create a bordered image we use the following command and args. Using this command you can insert different border sizes on each side of the image.\n",
        "\n",
        "cv2.copyMakeBorder(src, top, bottom, left, right, borderType[, dst[, value]])\n",
        "\n",
        "src – Source image.\n",
        "\n",
        "Size(src.cols+left+right, src.rows+top+bottom)\n",
        "\n",
        "top, bottom, left, right – Parameter specifying how many pixels in each direction from the source image rectangle to extrapolate. For example, top=1, bottom=1, left=1, right=1 mean that 1 pixel-wide border needs to be built.\n",
        "\n",
        "borderType – Border type. One of the border types declared above.\n",
        "\n",
        "value – Border value if borderType==BORDER_CONSTANT "
      ],
      "metadata": {
        "id": "CG7NtLf3FnW1"
      },
      "execution_count": null,
      "outputs": []
    },
    {
      "cell_type": "code",
      "source": [
        "top = 10; bottom = 5; left = 20; right = 5\n",
        "const = 100\n",
        "img2 = cv2.copyMakeBorder(ref, top, bottom, left, right, \n",
        "                          cv2.BORDER_WRAP)\n",
        "img3 = cv2.copyMakeBorder(ref, top, bottom, left, right, \n",
        "                          cv2.BORDER_REFLECT)\n",
        "img4 = cv2.copyMakeBorder(ref, top, bottom, left, right, \n",
        "                          cv2.BORDER_REPLICATE)\n",
        "img5 = cv2.copyMakeBorder(ref, top, bottom, left, right, \n",
        "                          cv2.BORDER_CONSTANT, const)\n",
        "\n",
        "# Display the images\n",
        "fig=plt.figure(figsize=(14, 14), dpi= 80, facecolor='w', edgecolor='k')\n",
        "\n",
        "plt.subplot(221), plt.imshow(img2), plt.grid(False)\n",
        "plt.xticks([]), plt.yticks([]), plt.title('wrap')\n",
        "\n",
        "plt.subplot(222), plt.imshow(img3), plt.grid(False)\n",
        "plt.xticks([]), plt.yticks([]), plt.title('reflect')\n",
        "\n",
        "plt.subplot(223), plt.imshow(img4), plt.grid(False)\n",
        "plt.xticks([]), plt.yticks([]), plt.title('replicate')\n",
        "\n",
        "plt.subplot(224), plt.imshow(img5), plt.grid(False)\n",
        "plt.xticks([]), plt.yticks([]), plt.title('constant')\n",
        "\n",
        "plt.show()"
      ],
      "metadata": {
        "id": "sfB8eh4_Fu5J"
      },
      "execution_count": null,
      "outputs": []
    },
    {
      "cell_type": "code",
      "source": [
        "3-User-defined kernels\n",
        "One can apply user-defined kernels just like the way we applied in section 1. For example, consider applying the following kernel (which is a vertical gradient filter) on the image.\n",
        "\n"
      ],
      "metadata": {
        "id": "iqjE8o2kF54x"
      },
      "execution_count": null,
      "outputs": []
    },
    {
      "cell_type": "code",
      "source": [
        "# vertical gradient kernel\n",
        "# define a random kernel\n",
        "vertical_gd = np.array([[1, 0, -1], [1, 0, -1], [1, 0, -1]])\n",
        "\n",
        "# apply it.\n",
        "filter_v = cv2.filter2D(ref[:, :, 2], -1, vertical_gd)\n",
        "\n",
        "# show in a different colormap.\n",
        "plt.imshow(filter_v, cmap='gray'), plt.grid(False)\n",
        "plt.xticks([]), plt.yticks([])"
      ],
      "metadata": {
        "id": "mP21D9opGDJw"
      },
      "execution_count": null,
      "outputs": []
    },
    {
      "cell_type": "code",
      "source": [
        "(([], ),\n",
        " ([], ))\n"
      ],
      "metadata": {
        "id": "ZThzlsRtGIyy"
      },
      "execution_count": null,
      "outputs": []
    },
    {
      "cell_type": "code",
      "source": [
        "4-Median filtering\n",
        "Median filter is a non-linear filter which is very useful in removing or decreasing the salt-and-pepper noise. The medianBlur function in OpenCV is designed to perform median filtering.\n",
        "\n",
        "cv2.medianBlur(src, ksize[, dst])\n",
        "\n",
        "src – input 1-, 3-, or 4-channel image; when ksize is 3 or 5, the image depth should be CV_8U, CV_16U, or CV_32F, for larger aperture sizes, it can only be CV_8U.\n",
        "\n",
        "ksize – aperture linear size; it must be odd and greater than 1, for example: 3, 5, 7 ...\n",
        "\n",
        "In order to better understand the effect of median filtering, we first add some noise to the image."
      ],
      "metadata": {
        "id": "xvEnSIhlGOSJ"
      },
      "execution_count": null,
      "outputs": []
    },
    {
      "cell_type": "code",
      "source": [
        "s_and_p = np.random.rand(ref.shape[0], ref.shape[1])\n",
        "\n",
        "# if we consider 5% salt and pepper noise, we'd like to have\n",
        "# 2.5% salt and 2.5% pepper. thus:\n",
        "salt = s_and_p > .975\n",
        "pepper = s_and_p < .025\n",
        "\n",
        "# in order to add some noise, we should turn off black (pepper) locations and\n",
        "# turn on white (white) locations.\n",
        "channel_2 = np.atleast_1d(ref[:, :, 1])\n",
        "noisy = np.zeros_like(channel_2)\n",
        "\n",
        "for i in range(channel_2.shape[0]*channel_2.shape[1]):\n",
        "  if salt.ravel()[i] == 1:\n",
        "    noisy.ravel()[i] = 255\n",
        "  elif pepper.ravel()[i] == 1:\n",
        "    noisy.ravel()[i] = 0\n",
        "  else:\n",
        "    noisy.ravel()[i] = channel_2.ravel()[i]\n",
        "\n",
        "# apply median filter with size 3\n",
        "Med = cv2.medianBlur(noisy, 3)\n",
        "\n",
        "# Display the results\n",
        "fig=plt.figure(figsize=(14, 14), dpi= 80, facecolor='w', edgecolor='k')\n",
        "plt.subplot(121), plt.xticks([]), plt.yticks([])\n",
        "plt.imshow(noisy, cmap='gray'), plt.grid(False)\n",
        "plt.subplot(122), plt.xticks([]), plt.yticks([])\n",
        "plt.imshow(Med, cmap='gray'), plt.grid(False)\n",
        "plt.show()"
      ],
      "metadata": {
        "id": "9olvGFKCGWc9"
      },
      "execution_count": null,
      "outputs": []
    },
    {
      "cell_type": "code",
      "source": [
        "5- Gaussian filtering\n",
        "There are multiple ways to perform a gaussian filtering over an image:\n",
        "\n",
        "using cv2.GaussianBlur() function,\n",
        "and, using cv2.sepFilter2D() after creating two separate horizontal and vertical kernels and applying them.\n",
        "But, first of all, we need to have a noisy image; specifically with gaussian noise added to it. To create such an image we use Numpy to create random gaussian noise and then add it to the image."
      ],
      "metadata": {
        "id": "KrskvkCJGdmX"
      },
      "execution_count": null,
      "outputs": []
    },
    {
      "cell_type": "code",
      "source": [
        "# Creating random normal (gaussian) noise with pre-defined mean and std.\n",
        "# The noisy image should be the size of the reference image.\n",
        "mean = 0\n",
        "sigma = 20.0\n",
        "gauss_noise = np.random.normal(mean, sigma, (ref.shape[0], ref.shape[1]))\n",
        "\n",
        "# Convert RGB image to Grayscale image using cvtColor()\n",
        "gray = cv2.cvtColor(ref, cv2.COLOR_BGR2GRAY)\n",
        "\n",
        "# Add gaussian noise to the image\n",
        "g_noisy = gray + gauss_noise # Gaussian noisy image\n",
        "\n",
        "# Showing gray image, noise image, and noisy image\n",
        "fig=plt.figure(figsize=(14, 14), dpi= 80, facecolor='w', edgecolor='k')\n",
        "plt.subplot(131), plt.xticks([]), plt.yticks([])\n",
        "plt.imshow(gray, cmap='gray'), plt.grid(False)\n",
        "plt.subplot(132), plt.xticks([]), plt.yticks([])\n",
        "plt.imshow(gauss_noise, cmap='gray'), plt.grid(False)\n",
        "plt.subplot(133), plt.xticks([]), plt.yticks([])\n",
        "plt.imshow(g_noisy, cmap='gray'), plt.grid(False)"
      ],
      "metadata": {
        "id": "hzbCaiWRGrSQ"
      },
      "execution_count": null,
      "outputs": []
    },
    {
      "cell_type": "code",
      "source": [
        "Now, we use simple cv2.GaussianBlur()to reduce gaussian noise in g_noisy image created above.\n",
        "\n",
        "cv2.GaussianBlur(src, ksize, sigmaX[, dst[, sigmaY[, borderType]]])\n",
        "\n",
        "src – input image; the image can have any number of channels, which are processed independently, but the depth should be CV_8U, CV_16U, CV_16S, CV_32F or CV_64F.\n",
        "\n",
        "ksize – Gaussian kernel size. ksize.width and ksize.height can differ but they both must be positive and odd. Or, they can be zero’s and then they are computed from sigma* .\n",
        "\n",
        "sigmaX – Gaussian kernel standard deviation in X direction.\n",
        "\n",
        "sigmaY – Gaussian kernel standard deviation in Y direction; if sigmaY is zero, it is set to be equal to sigmaX, if both sigmas are zeros, they are computed from ksize.width and ksize.height , respectively (see getGaussianKernel() for details); to fully control the result regardless of possible future modifications of all this semantics, it is recommended to specify all of ksize, sigmaX, and sigmaY.\n",
        "\n",
        "borderType – pixel extrapolation method."
      ],
      "metadata": {
        "id": "sU1-scprGzB0"
      },
      "execution_count": null,
      "outputs": []
    },
    {
      "cell_type": "code",
      "source": [
        "g_filtered = cv2.GaussianBlur(g_noisy, (3, 3), 20, 20)\n",
        "\n",
        "# Display the result\n",
        "plt.imshow(g_filtered, cmap='gray'), plt.grid(False)\n",
        "plt.xticks([]), plt.yticks([]"
      ],
      "metadata": {
        "id": "chJFvbYVG6tx"
      },
      "execution_count": null,
      "outputs": []
    },
    {
      "cell_type": "code",
      "source": [
        "(([], ),\n",
        " ([], ))"
      ],
      "metadata": {
        "id": "cz1VRlpwG_rV"
      },
      "execution_count": null,
      "outputs": []
    },
    {
      "cell_type": "code",
      "source": [
        "In order to use cv2.sepFilter2D() function, we should create a gaussian kernel. This is done using cv2.getGaussianKernel(). It creates 1-dimensional gaussian coefficients.\n",
        "\n",
        "cv2.getGaussianKernel(ksize, sigma[, ktype])\n",
        "\n",
        "ksize – Aperture size. It should be odd and positive.\n",
        "\n",
        "sigma – Gaussian standard deviation. If it is non-positive, it is computed from ksize as sigma = 0.3*((ksize-1)*0.5 - 1) + 0.8.\n",
        "\n",
        "ktype – Type of filter coefficients. It can be CV_32f or CV_64F ."
      ],
      "metadata": {
        "id": "mqCuh9XNHD-f"
      },
      "execution_count": null,
      "outputs": []
    },
    {
      "cell_type": "code",
      "source": [
        "\n",
        " Create a single gaussian kernel\n",
        "g_kernel = cv2.getGaussianKernel(3, 20)\n",
        "print(g_kernel)\n",
        "\n",
        "# Apply two separate kernels over the image.\n",
        "g_filtered_2 = cv2.sepFilter2D(g_noisy, -1, g_kernel, g_kernel)\n",
        "\n",
        "# Displaying the results.\n",
        "fig=plt.figure(figsize=(14, 14), dpi= 80, facecolor='w', edgecolor='k')\n",
        "plt.subplot(121), plt.xticks([]), plt.yticks([]), plt.title('first method')\n",
        "plt.imshow(g_filtered, cmap='gray'), plt.grid(False)\n",
        "plt.subplot(122), plt.xticks([]), plt.yticks([]), plt.title('second method')\n",
        "plt.imshow(g_filtered_2, cmap='gray'), plt.grid(False)\n",
        "[[0.33319442]\n",
        " [0.33361117]\n",
        " [0.33319442]]\n",
        "(, None)"
      ],
      "metadata": {
        "id": "iqJfg1eBHK1x"
      },
      "execution_count": null,
      "outputs": []
    },
    {
      "cell_type": "code",
      "source": [],
      "metadata": {
        "id": "eek6TF0aHXjG"
      },
      "execution_count": null,
      "outputs": []
    }
  ]
}