{
  "nbformat": 4,
  "nbformat_minor": 0,
  "metadata": {
    "colab": {
      "provenance": []
    },
    "kernelspec": {
      "name": "python3",
      "display_name": "Python 3"
    },
    "language_info": {
      "name": "python"
    }
  },
  "cells": [
    {
      "cell_type": "code",
      "source": [
        "from sklearn.model_selection import train_test_split\n",
        "import pandas as pd\n",
        "from sklearn.svm import SVC\n",
        "from sklearn.naive_bayes import GaussianNB\n",
        "from sklearn.ensemble import RandomForestClassifier, VotingClassifier\n",
        "from sklearn.neighbors import KNeighborsClassifier\n",
        "from sklearn.metrics import accuracy_score\n",
        "from sklearn import model_selection\n",
        "\n",
        "crop = pd.read_csv('Data/crop_recommendation.csv')\n",
        "X = crop.iloc[:,:-1].values\n",
        "Y = crop.iloc[:,-1].values\n",
        "\n",
        "X_train, X_test, y_train, y_test = train_test_split(X, Y, test_size = 0.15)\n",
        "\n",
        "models = []\n",
        "models.append(('SVC', SVC(gamma ='auto', probability = True)))\n",
        "models.append(('svm1', SVC(probability=True, kernel='poly', degree=1)))\n",
        "models.append(('svm2', SVC(probability=True, kernel='poly', degree=2)))\n",
        "models.append(('svm3', SVC(probability=True, kernel='poly', degree=3)))\n",
        "models.append(('svm4', SVC(probability=True, kernel='poly', degree=4)))\n",
        "models.append(('svm5', SVC(probability=True, kernel='poly', degree=5)))\n",
        "models.append(('rf',RandomForestClassifier(n_estimators = 21)))\n",
        "models.append(('gnb',GaussianNB()))\n",
        "models.append(('knn1', KNeighborsClassifier(n_neighbors=1)))\n",
        "models.append(('knn3', KNeighborsClassifier(n_neighbors=3)))\n",
        "models.append(('knn5', KNeighborsClassifier(n_neighbors=5)))\n",
        "models.append(('knn7', KNeighborsClassifier(n_neighbors=7)))\n",
        "models.append(('knn9', KNeighborsClassifier(n_neighbors=9)))\n",
        "\n",
        "vot_soft = VotingClassifier(estimators=models, voting='soft')\n",
        "vot_soft.fit(X_train, y_train)\n",
        "y_pred = vot_soft.predict(X_test)\n",
        "\n",
        "scores = model_selection.cross_val_score(vot_soft, X_test, y_test,cv=5,scoring='accuracy')\n",
        "print(\"Accuracy: \",scores.mean())\n",
        "\n",
        "score = accuracy_score(y_test, y_pred)\n",
        "print(\"Voting Score % d\" % score)\n",
        "\n",
        "import pickle\n",
        "pkl_filename = 'Crop_Recommendation.pkl'\n",
        "Model_pkl = open(pkl_filename, 'wb')\n",
        "pickle.dump(vot_soft, Model_pkl)\n",
        "Model_pkl.close()\n",
        "\n"
      ],
      "metadata": {
        "id": "1rWjvh_k0Rw3"
      },
      "execution_count": null,
      "outputs": []
    }
  ]
}